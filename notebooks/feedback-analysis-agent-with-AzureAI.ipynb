{
 "cells": [
  {
   "cell_type": "code",
   "execution_count": null,
   "metadata": {},
   "outputs": [],
   "source": [
    "!pip install kagglehub"
   ]
  },
  {
   "cell_type": "code",
   "execution_count": null,
   "metadata": {},
   "outputs": [],
   "source": [
    "\n",
    "import kagglehub\n",
    "\n",
    "# Download latest version\n",
    "path = kagglehub.dataset_download(\"nelgiriyewithana/shoppersentiments\")\n",
    "\n",
    "print(\"Path to dataset files:\", path)"
   ]
  },
  {
   "cell_type": "code",
   "execution_count": null,
   "metadata": {},
   "outputs": [],
   "source": [
    "!pip install haystack-ai\n",
    "!pip install azure-ai-search-haystack"
   ]
  },
  {
   "cell_type": "code",
   "execution_count": 3,
   "metadata": {},
   "outputs": [],
   "source": [
    "import pandas as pd\n",
    "from json import loads, dumps\n",
    "\n",
    "path = \"/Users/amna.mubashar/.cache/kagglehub/datasets/nelgiriyewithana/shoppersentiments/versions/1/TeePublic_review.csv\"\n",
    "# First read the CSV with pandas to handle encoding issues\n",
    "\n",
    "df = pd.read_csv(path, encoding='latin1', skiprows=range(1,40), nrows=25)  # or try 'iso-8859-1', 'cp1252'\n",
    "\n",
    "df.rename(columns={'review-label': 'rating'}, inplace=True)\n",
    "df['year'] = pd.to_datetime(df['year'], format='%Y %H:%M:%S').dt.year\n",
    "\n",
    "# Convert DataFrame to JSON\n",
    "json_data = {\"reviews\": loads(df.to_json(orient=\"records\"))}\n"
   ]
  },
  {
   "cell_type": "code",
   "execution_count": null,
   "metadata": {},
   "outputs": [],
   "source": [
    "!pip install jq"
   ]
  },
  {
   "cell_type": "code",
   "execution_count": 4,
   "metadata": {},
   "outputs": [
    {
     "name": "stdout",
     "output_type": "stream",
     "text": [
      "Document(id=48baf64e8784ca4a7c2b61dc8bd57bb8d86ea4306e3c24b6a43558f2b2f90581, content: 'Fast shipping, great quality, but the sizing was WAY off - my shirt doesn't fit me whatsoever.', meta: {'rating': 3, 'month': 6, 'store_location': 'US', 'date': 2023, 'year': 2019})\n"
     ]
    }
   ],
   "source": [
    "from haystack.components.converters import JSONConverter\n",
    "from haystack.dataclasses import ByteStream\n",
    "converter = JSONConverter(\n",
    "  jq_schema=\".reviews[]\", content_key=\"review\", extra_meta_fields={\"store_location\", \"date\", \"month\", \"year\", \"rating\"}\n",
    ")\n",
    "source = ByteStream.from_string(dumps(json_data))\n",
    "\n",
    "results = converter.run(sources=[source])\n",
    "print (results[\"documents\"][2])\n"
   ]
  },
  {
   "cell_type": "code",
   "execution_count": null,
   "metadata": {},
   "outputs": [],
   "source": [
    "!pip install nltk==\"3.9.1\""
   ]
  },
  {
   "cell_type": "code",
   "execution_count": 5,
   "metadata": {},
   "outputs": [
    {
     "name": "stdout",
     "output_type": "stream",
     "text": [
      "{'documents': [Document(id=034938918e38a4e876b4d3481eef1b20b4a223dd1a1992c9a09e7d5b9a5f7731, content: 'The screen prints look good however 2 out of the 3 that I ordered are crooked. Theyre not horribly c...', meta: {'rating': 3, 'month': 6, 'store_location': 'US', 'date': 2023, 'year': 2017}), Document(id=d75e72a14f123d0378643a044f5bffd96161115d32ce4a2829199c8b904d1f8b, content: 'I had to make a return for a larger size tee shirt and it was no hassle and communication was fantas...', meta: {'rating': 5, 'month': 6, 'store_location': 'US', 'date': 2023, 'year': 2019}), Document(id=48baf64e8784ca4a7c2b61dc8bd57bb8d86ea4306e3c24b6a43558f2b2f90581, content: 'Fast shipping, great quality, but the sizing was WAY off - my shirt doesn't fit me whatsoever.', meta: {'rating': 3, 'month': 6, 'store_location': 'US', 'date': 2023, 'year': 2019}), Document(id=524f924718427580bc65f6cb814f04c60c94c568fccd9f2cd5c13699adeb94a2, content: 'I ordered a Tshirt for both of my girls. \"Resting stitch face\" t shirt and one Lilo shirt. A WIZ shi...', meta: {'rating': 3, 'month': 6, 'store_location': 'US', 'date': 2023, 'year': 2015}), Document(id=3cf82b7634004a0eeb06b8a9660c4829b7587ca52869c9275215ef9db0aa2918, content: 'Product was great. Love the options. anything I could imagine was available. my only issue was I pai...', meta: {'rating': 4, 'month': 6, 'store_location': 'US', 'date': 2023, 'year': 2023}), Document(id=6e98ac0aab9920aee27e8cfaac907676a2ba1d2b6d82cc5cf5b70179b79e84f1, content: 'I like this company and the fact that I am supporting local artists.My only negative is that shippin...', meta: {'rating': 4, 'month': 6, 'store_location': 'US', 'date': 2023, 'year': 2007}), Document(id=75494c8725d0069c3f3fef739d320ccf208375d69c8525e62fa5de5e5fef4528, content: 'The website was easy to navigate and this is our 2nd order for our wedding this has been a great exp...', meta: {'rating': 5, 'month': 6, 'store_location': 'US', 'date': 2023, 'year': 2018}), Document(id=229c8833dcde7f26149e263460ef049fde5ff12e18b331ee7a0fbc5405fe544e, content: 'Customer service was great. It was a simple and easy experience and I love that I was able to resolv...', meta: {'rating': 5, 'month': 6, 'store_location': 'US', 'date': 2023, 'year': 2016}), Document(id=47626e35154a25e517fc155338d1c5fa66ef85a4bb12dc6bd283f0139df4f57c, content: 'The tee that I originally ordered was at least 2 sizes smaller than the size it is supposed to be.Th...', meta: {'rating': 2, 'month': 6, 'store_location': 'US', 'date': 2023, 'year': 2022}), Document(id=f8fa0901c3b9b7b77b52b4170282964d4e5c7407d6d2984276ac478e8333cefc, content: 'The shirts are perfect. Well made. Quality shirts. The prints are awesome. Definitely a repeat custo...', meta: {'rating': 5, 'month': 6, 'store_location': 'US', 'date': 2023, 'year': 2019}), Document(id=3063658304a7efa15614c5dea8e454905d0e56b85ce2908942b8050c175e1a05, content: 'The shirts are ridiculously funny and decently priced! My order came on time and fit as expected :)', meta: {'rating': 5, 'month': 6, 'store_location': 'US', 'date': 2023, 'year': 2015}), Document(id=1c1cbb015fc3cb0f8eb5cbf969c6cbb9a092e732770019a969b0226198314d1e, content: 'Fast service, the shirt is great, exactly as shown.Too many promotional emails though.', meta: {'rating': 5, 'month': 6, 'store_location': 'US', 'date': 2023, 'year': 2018}), Document(id=830213698e495023e91eb27dd5db60e8aa2696fcdb22e1b346c29fa5cc33c585, content: 'Order came as advertised.Good communication via text, but too many ads also.', meta: {'rating': 5, 'month': 6, 'store_location': 'US', 'date': 2023, 'year': 2024}), Document(id=b4e2d72ae4ac786a2f14e7389dbc91b9fd6713f933e5a347b4ba50d65b50200a, content: 'Receiving my order in a reasonable time and the fit of the tee shirts are perfect I love them.', meta: {'rating': 5, 'month': 6, 'store_location': 'US', 'date': 2023, 'year': 2017}), Document(id=2e8687747414d758815e2f89d1103ced78dbdf57a20e3c496848a7789d3f66ef, content: 'They not only sent a good quality shirt, they fixed a sizing issue with no problem. They were so ple...', meta: {'rating': 5, 'month': 6, 'store_location': 'US', 'date': 2023, 'year': 2015}), Document(id=e6ebbdaca01dc495b9e0e2fcaf2b3457a6d5856923e742c6854f8da6e2fd59c3, content: 'Great quality shirts. Fabric is soft and designs are printed well. No cracking or shrinking.', meta: {'rating': 5, 'month': 6, 'store_location': 'US', 'date': 2023, 'year': 2022}), Document(id=3ed0017727249ea5f9372cf4999a7b82e84c85259c131aeafe4f9bfe6aade0d2, content: 'Great Products!!!This is the second time I have purchased shirts from Tee Public and they have turne...', meta: {'rating': 4, 'month': 6, 'store_location': 'US', 'date': 2023, 'year': 2023}), Document(id=09b3fa75b50ef18a6fa92c54e7a2a7e92c3b05bb4ab98929837e7faf9ccfd6af, content: 'Awesome selection and I loved how it turned out!And fast shipping! I will be visiting again!', meta: {'rating': 5, 'month': 6, 'store_location': 'US', 'date': 2023, 'year': 2008}), Document(id=d5b92cd3422c1b58d557bbbfb4ef4b90ee9c6c6a269042d9a6195cdce9eea710, content: 'A bit pricey for a tee shirt. Childs size cost $18.00 and outrageous shipping $9.99. No way this cos...', meta: {'rating': 3, 'month': 6, 'store_location': 'US', 'date': 2023, 'year': 2024}), Document(id=f2714766c5762983f58fcc8a1fda256eeec7bc54b9c2cb7f516f4c875fc4cb1d, content: 'I mistakenly ordered the wrong size. TeePublic happily replaced it free of charge. The postage is fa...', meta: {'rating': 5, 'month': 6, 'store_location': 'AU', 'date': 2023, 'year': 2023}), Document(id=b4f72428cc425e953e548cbb18c0e58cc8c7f2f78225f466be060c69de0c89db, content: 'Great quality fabric and the print on the fabric is not going to come out in the wash.Received fairl...', meta: {'rating': 5, 'month': 6, 'store_location': 'US', 'date': 2023, 'year': 2017}), Document(id=d4e788d2068eb57736993aa85b2daf30142157796a983a8969edc34a058367aa, content: 'Subpar communication after a horrible quality of tees received. They have a 100% guarantee yet less ...', meta: {'rating': 2, 'month': 6, 'store_location': 'DE', 'date': 2023, 'year': 2022}), Document(id=19344eb1358499f04ab5372c8b4656e7f5899b1d42c040d7dbcf12e0cdcd674d, content: 'Great to find a wide variety of products that can be somewhat personalized by a customers likings', meta: {'rating': 5, 'month': 6, 'store_location': 'US', 'date': 2023, 'year': 2019}), Document(id=52bc03b33da890c3ec9cee30bc6d566a996683a61036158d2923d5929eb34821, content: 'Once I figured out the sizing, everything was great. FYI, I am a size 10 in womens tops but prefer a...', meta: {'rating': 5, 'month': 6, 'store_location': 'US', 'date': 2023, 'year': 2018}), Document(id=1d68f91e251355202becbc607cf09a938358264a6e10cdf807c4e1d316f08e93, content: 'Love the way everything was packed nicely folded with fast efficient delivery.', meta: {'rating': 5, 'month': 6, 'store_location': 'US', 'date': 2023, 'year': 2025})]}\n"
     ]
    }
   ],
   "source": [
    "from haystack.components.preprocessors import DocumentCleaner\n",
    "cleaner = DocumentCleaner(ascii_only=True, remove_regex=\"i12i12i12\")\n",
    "cleaned_documents=cleaner.run(documents=results[\"documents\"], )\n",
    "\n",
    "print (cleaned_documents)\n"
   ]
  },
  {
   "cell_type": "code",
   "execution_count": 7,
   "metadata": {},
   "outputs": [
    {
     "name": "stderr",
     "output_type": "stream",
     "text": [
      "Embedding Texts: 100%|██████████| 1/1 [00:01<00:00,  1.05s/it]\n"
     ]
    },
    {
     "data": {
      "text/plain": [
       "{'document_embedder': {'meta': {'model': 'ada',\n",
       "   'usage': {'prompt_tokens': 902, 'total_tokens': 902}}},\n",
       " 'doc_writer': {'documents_written': 25}}"
      ]
     },
     "execution_count": 7,
     "metadata": {},
     "output_type": "execute_result"
    }
   ],
   "source": [
    "from haystack import Pipeline\n",
    "from haystack.components.embedders import AzureOpenAITextEmbedder, AzureOpenAIDocumentEmbedder\n",
    "from haystack.components.writers import DocumentWriter\n",
    "from azure.search.documents.indexes.models import (\n",
    "    SemanticConfiguration,\n",
    "    SemanticField,\n",
    "    SemanticPrioritizedFields,\n",
    "    SemanticSearch\n",
    ")\n",
    "\n",
    "from haystack_integrations.document_stores.azure_ai_search import AzureAISearchDocumentStore\n",
    "\n",
    "\n",
    "semantic_config = SemanticConfiguration(\n",
    "    name=\"my-semantic-config\",\n",
    "    prioritized_fields=SemanticPrioritizedFields(\n",
    "        content_fields=[SemanticField(field_name=\"content\")]\n",
    "    )\n",
    ")\n",
    "\n",
    "# Create the semantic settings with the configuration\n",
    "semantic_search = SemanticSearch(configurations=[semantic_config])\n",
    "\n",
    "document_store = AzureAISearchDocumentStore(index_name=\"customer-reviews-analysis\", azure_endpoint=\"\",\n",
    "    api_key=\"\",\n",
    "    embedding_dimension=1536, metadata_fields = {\"month\": int, \"year\": int, \"rating\": int, \"store_location\": str}, semantic_search=semantic_search)\n",
    "\n",
    "# Indexing Pipeline\n",
    "indexing_pipeline = Pipeline()\n",
    "indexing_pipeline.add_component(\"document_embedder\", AzureOpenAIDocumentEmbedder())\n",
    "indexing_pipeline.add_component(instance=DocumentWriter(document_store=document_store), name=\"doc_writer\")\n",
    "indexing_pipeline.connect(\"document_embedder\", \"doc_writer\")\n",
    "\n",
    "indexing_pipeline.run({\"document_embedder\": {\"documents\": cleaned_documents[\"documents\"]}})\n",
    "\n"
   ]
  },
  {
   "cell_type": "code",
   "execution_count": 8,
   "metadata": {},
   "outputs": [
    {
     "data": {
      "text/plain": [
       "<haystack.core.pipeline.pipeline.Pipeline object at 0x1475d4a30>\n",
       "🚅 Components\n",
       "  - text_embedder: AzureOpenAITextEmbedder\n",
       "  - retriever: AzureAISearchHybridRetriever\n",
       "🛤️ Connections\n",
       "  - text_embedder.embedding -> retriever.query_embedding (List[float])"
      ]
     },
     "execution_count": 8,
     "metadata": {},
     "output_type": "execute_result"
    }
   ],
   "source": [
    "from haystack_integrations.components.retrievers.azure_ai_search import AzureAISearchHybridRetriever\n",
    "\n",
    "# Query Pipeline\n",
    "query_pipeline = Pipeline()\n",
    "query_pipeline.add_component(\"text_embedder\", AzureOpenAITextEmbedder())\n",
    "query_pipeline.add_component(\"retriever\", AzureAISearchHybridRetriever(document_store=document_store, query_type=\"semantic\", semantic_configuration_name=\"my-semantic-config\", top_k=10))\n",
    "query_pipeline.connect(\"text_embedder.embedding\", \"retriever.query_embedding\")\n",
    "\n"
   ]
  },
  {
   "cell_type": "code",
   "execution_count": 9,
   "metadata": {},
   "outputs": [
    {
     "name": "stdout",
     "output_type": "stream",
     "text": [
      "<iterator object azure.core.paging.ItemPaged at 0x17d9093d0>\n"
     ]
    }
   ],
   "source": [
    "query = \"Which reviews are about shipping?\"\n",
    "\n",
    "result = query_pipeline.run({\"text_embedder\": {\"text\": query}, \"retriever\": {\"query\": query}})"
   ]
  },
  {
   "cell_type": "code",
   "execution_count": 10,
   "metadata": {},
   "outputs": [
    {
     "name": "stdout",
     "output_type": "stream",
     "text": [
      "1. Product was great. Love the options. anything I could imagine was available. my only issue was I paid extra for 4-6 shipping and got the shirts 9 days after order. I will try again tho.Thank you\n",
      "2. Product was great. Love the options. anything I could imagine was available. my only issue was I paid extra for 4-6 shipping and got the shirts 9 days after order. I will try again tho.Thank you\n",
      "3. Once I figured out the sizing, everything was great. FYI, I am a size 10 in womens tops but prefer a looser fit for a crew neck tee. The 3X fits like a size Large tee from J. Crew. The shipping is a bit slow, but not too bad. Love my tees. This is my second order.\n",
      "4. Once I figured out the sizing, everything was great. FYI, I am a size 10 in womens tops but prefer a looser fit for a crew neck tee. The 3X fits like a size Large tee from J. Crew. The shipping is a bit slow, but not too bad. Love my tees. This is my second order.\n",
      "5. Love the way everything was packed nicely folded with fast efficient delivery.\n",
      "6. Love the way everything was packed nicely folded with fast efficient delivery.\n",
      "7. A bit pricey for a tee shirt. Childs size cost $18.00 and outrageous shipping $9.99. No way this cost that much to ship in a plastic bag. Would likely not use again due to shipping charges. Only bought from this site as I could not find it on Amazon or elsewhere. Hard to say how well print will hold up to washing. This was\n",
      "8. A bit pricey for a tee shirt. Childs size cost $18.00 and outrageous shipping $9.99. No way this cost that much to ship in a plastic bag. Would likely not use again due to shipping charges. Only bought from this site as I could not find it on Amazon or elsewhere. Hard to say how well print will hold up to washing. This was\n",
      "9. Awesome selection and I loved how it turned out!And fast shipping! I will be visiting again!\n",
      "10. Awesome selection and I loved how it turned out!And fast shipping! I will be visiting again!\n"
     ]
    }
   ],
   "source": [
    "retrieved_reviews = result[\"retriever\"][\"documents\"]\n",
    "for i, doc in enumerate(retrieved_reviews):\n",
    "    print (f\"{i+1}. {doc.content}\")\n"
   ]
  },
  {
   "cell_type": "code",
   "execution_count": null,
   "metadata": {},
   "outputs": [],
   "source": [
    "!pip install jsonschema"
   ]
  },
  {
   "cell_type": "markdown",
   "metadata": {},
   "source": [
    "# TOOL USING ASPECT BASED SENTIMENT ANALYSIS\n"
   ]
  },
  {
   "cell_type": "code",
   "execution_count": 29,
   "metadata": {},
   "outputs": [
    {
     "name": "stdout",
     "output_type": "stream",
     "text": [
      "Defaulting to user installation because normal site-packages is not writeable\n",
      "Requirement already satisfied: vaderSentiment in /Users/amna.mubashar/Library/Python/3.9/lib/python/site-packages (3.3.2)\n",
      "Requirement already satisfied: requests in /Users/amna.mubashar/Library/Python/3.9/lib/python/site-packages (from vaderSentiment) (2.32.3)\n",
      "Requirement already satisfied: charset-normalizer<4,>=2 in /Users/amna.mubashar/Library/Python/3.9/lib/python/site-packages (from requests->vaderSentiment) (3.3.2)\n",
      "Requirement already satisfied: idna<4,>=2.5 in /Users/amna.mubashar/Library/Python/3.9/lib/python/site-packages (from requests->vaderSentiment) (3.7)\n",
      "Requirement already satisfied: urllib3<3,>=1.21.1 in /Users/amna.mubashar/Library/Python/3.9/lib/python/site-packages (from requests->vaderSentiment) (2.2.3)\n",
      "Requirement already satisfied: certifi>=2017.4.17 in /Users/amna.mubashar/Library/Python/3.9/lib/python/site-packages (from requests->vaderSentiment) (2024.6.2)\n",
      "\n",
      "\u001b[1m[\u001b[0m\u001b[34;49mnotice\u001b[0m\u001b[1;39;49m]\u001b[0m\u001b[39;49m A new release of pip is available: \u001b[0m\u001b[31;49m24.0\u001b[0m\u001b[39;49m -> \u001b[0m\u001b[32;49m25.0\u001b[0m\n",
      "\u001b[1m[\u001b[0m\u001b[34;49mnotice\u001b[0m\u001b[1;39;49m]\u001b[0m\u001b[39;49m To update, run: \u001b[0m\u001b[32;49m/Library/Developer/CommandLineTools/usr/bin/python3 -m pip install --upgrade pip\u001b[0m\n",
      "Defaulting to user installation because normal site-packages is not writeable\n",
      "Requirement already satisfied: matplotlib in /Users/amna.mubashar/Library/Python/3.9/lib/python/site-packages (3.9.3)\n",
      "Requirement already satisfied: contourpy>=1.0.1 in /Users/amna.mubashar/Library/Python/3.9/lib/python/site-packages (from matplotlib) (1.3.0)\n",
      "Requirement already satisfied: cycler>=0.10 in /Users/amna.mubashar/Library/Python/3.9/lib/python/site-packages (from matplotlib) (0.12.1)\n",
      "Requirement already satisfied: fonttools>=4.22.0 in /Users/amna.mubashar/Library/Python/3.9/lib/python/site-packages (from matplotlib) (4.55.2)\n",
      "Requirement already satisfied: kiwisolver>=1.3.1 in /Users/amna.mubashar/Library/Python/3.9/lib/python/site-packages (from matplotlib) (1.4.7)\n",
      "Requirement already satisfied: numpy>=1.23 in /Users/amna.mubashar/Library/Python/3.9/lib/python/site-packages (from matplotlib) (1.26.4)\n",
      "Requirement already satisfied: packaging>=20.0 in /Users/amna.mubashar/Library/Python/3.9/lib/python/site-packages (from matplotlib) (24.0)\n",
      "Requirement already satisfied: pillow>=8 in /Users/amna.mubashar/Library/Python/3.9/lib/python/site-packages (from matplotlib) (10.3.0)\n",
      "Requirement already satisfied: pyparsing>=2.3.1 in /Users/amna.mubashar/Library/Python/3.9/lib/python/site-packages (from matplotlib) (3.1.2)\n",
      "Requirement already satisfied: python-dateutil>=2.7 in /Users/amna.mubashar/Library/Python/3.9/lib/python/site-packages (from matplotlib) (2.9.0.post0)\n",
      "Requirement already satisfied: importlib-resources>=3.2.0 in /Users/amna.mubashar/Library/Python/3.9/lib/python/site-packages (from matplotlib) (6.4.0)\n",
      "Requirement already satisfied: zipp>=3.1.0 in /Users/amna.mubashar/Library/Python/3.9/lib/python/site-packages (from importlib-resources>=3.2.0->matplotlib) (3.19.2)\n",
      "Requirement already satisfied: six>=1.5 in /Library/Developer/CommandLineTools/Library/Frameworks/Python3.framework/Versions/3.9/lib/python3.9/site-packages (from python-dateutil>=2.7->matplotlib) (1.15.0)\n",
      "\n",
      "\u001b[1m[\u001b[0m\u001b[34;49mnotice\u001b[0m\u001b[1;39;49m]\u001b[0m\u001b[39;49m A new release of pip is available: \u001b[0m\u001b[31;49m24.0\u001b[0m\u001b[39;49m -> \u001b[0m\u001b[32;49m25.0\u001b[0m\n",
      "\u001b[1m[\u001b[0m\u001b[34;49mnotice\u001b[0m\u001b[1;39;49m]\u001b[0m\u001b[39;49m To update, run: \u001b[0m\u001b[32;49m/Library/Developer/CommandLineTools/usr/bin/python3 -m pip install --upgrade pip\u001b[0m\n"
     ]
    }
   ],
   "source": [
    "!pip install vaderSentiment\n",
    "!pip install matplotlib"
   ]
  },
  {
   "cell_type": "code",
   "execution_count": 26,
   "metadata": {},
   "outputs": [],
   "source": [
    "import matplotlib.pyplot as plt\n",
    "import pandas as pd\n",
    "import numpy as np\n",
    "\n",
    "\n",
    "def plot_sentiment_distribution(topics):\n",
    "    # Create DataFrame from topics data\n",
    "    data = [(topic, review['sentiment']['analyzer_rating'], \n",
    "             review['review']['rating'], review['sentiment']['label'])\n",
    "            for topic, reviews in topics.items()\n",
    "            for review in reviews]\n",
    "    \n",
    "    df = pd.DataFrame(data, columns=['Topic', 'Normalized Score', 'Original Rating', 'Sentiment'])\n",
    "    \n",
    "    # Calculate means\n",
    "    df_means = df.groupby('Topic').agg({\n",
    "        'Normalized Score': 'mean',\n",
    "        'Original Rating': 'mean'\n",
    "    }).reset_index()\n",
    "    \n",
    "    fig, ax = plt.subplots(figsize=(8, 4))  # Reduced from (12, 6)\n",
    "    x = np.arange(len(df_means))\n",
    "    bar_width = 0.3  # Reduced from 0.35\n",
    "    \n",
    "    # Colors for sentiment\n",
    "    colors = {\n",
    "        'positive': '#2ecc71',\n",
    "        'neutral': '#f1c40f',\n",
    "        'negative': '#e74c3c'\n",
    "    }\n",
    "    \n",
    "    # Create bars\n",
    "    sentiment_colors = [colors[df.groupby('Topic')['Sentiment'].agg(lambda x: x.mode()[0])[topic]] \n",
    "                       for topic in df_means['Topic']]\n",
    "    \n",
    "    bars1 = ax.bar(x - bar_width/2, df_means['Normalized Score'], \n",
    "                   bar_width, label='Normalized Score', color=sentiment_colors)\n",
    "    bars2 = ax.bar(x + bar_width/2, df_means['Original Rating'], \n",
    "                   bar_width, label='Original Rating', color='gray', alpha=0.7)\n",
    "    \n",
    "    # Customize plot with smaller font sizes\n",
    "    ax.set_ylabel('Score', fontsize=9)\n",
    "    ax.set_title('Average Sentiment Scores by Topic', fontsize=10)\n",
    "    ax.set_xticks(x)\n",
    "    ax.set_xticklabels(df_means['Topic'], rotation=45, ha='right', fontsize=8)\n",
    "    ax.tick_params(axis='y', labelsize=8)\n",
    "    \n",
    "    # Add value labels with smaller font size\n",
    "    for bars in [bars1, bars2]:\n",
    "        ax.bar_label(bars, fmt='%.2f', padding=3, fontsize=8)\n",
    "    \n",
    "    # Smaller legend\n",
    "    ax.legend(handles=[plt.Rectangle((0,0),1,1, color=c) for c in colors.values()] + \n",
    "             [plt.Rectangle((0,0),1,1, color='gray', alpha=0.7)],\n",
    "             labels=list(colors.keys()) + ['Original Rating'],\n",
    "             loc='upper right',\n",
    "             fontsize=8)\n",
    "    \n",
    "    plt.tight_layout()\n",
    "    plt.show()"
   ]
  },
  {
   "cell_type": "code",
   "execution_count": 35,
   "metadata": {},
   "outputs": [],
   "source": [
    "from haystack.tools import Tool\n",
    "from haystack.components.tools import ToolInvoker\n",
    "\n",
    "from haystack.dataclasses import ChatMessage\n",
    "from haystack.components.generators.chat import AzureOpenAIChatGenerator, OpenAIChatGenerator\n",
    "from typing import Dict, List\n",
    "from vaderSentiment.vaderSentiment import SentimentIntensityAnalyzer\n",
    "\n",
    "\n",
    "def analyze_sentiment(reviews: List[Dict]) -> Dict:\n",
    "    \"\"\"\n",
    "    Perform aspect-based sentiment analysis.\n",
    "    \n",
    "    For each review that mentions keywords related to a specific topic, the function computes \n",
    "    sentiment scores using VADER and categorizes the sentiment as 'positive', 'negative', or 'neutral'.\n",
    "    \n",
    "    \"\"\"\n",
    "    topics = {\n",
    "        \"product_quality\": [],\n",
    "        \"shipping\": [],\n",
    "        \"customer_service\": [],\n",
    "        \"pricing\": []\n",
    "    }\n",
    "    \n",
    "    # Define keywords for each topic\n",
    "    keywords = {\n",
    "        \"product_quality\": [\"quality\", \"material\", \"design\", \"fit\", \"size\", \"color\", \"style\"],\n",
    "        \"shipping\": [\"shipping\", \"delivery\", \"arrived\"],\n",
    "        \"customer_service\": [\"service\", \"support\", \"help\"],\n",
    "        \"pricing\": [\"price\", \"cost\", \"expensive\", \"cheap\"]\n",
    "    }\n",
    "\n",
    "    \n",
    "    # Initialize the VADER sentiment analyzer\n",
    "    analyzer = SentimentIntensityAnalyzer()\n",
    "    \n",
    "    for review in reviews:\n",
    "        text = review.get(\"review\", \"\").lower()\n",
    "        for topic, words in keywords.items():\n",
    "            if any(word in text for word in words):\n",
    "                # Compute sentiment scores using VADER\n",
    "                sentiment_scores = analyzer.polarity_scores(text)\n",
    "               \n",
    "                compound = sentiment_scores['compound']\n",
    "                # Normalize compound score from [-1, 1] to [1, 5]\n",
    "                normalized_score = (compound + 1) * 2 + 1\n",
    "                \n",
    "                if compound >= 0.05:\n",
    "                    sentiment_label = 'positive'\n",
    "                elif compound <= -0.05:\n",
    "                    sentiment_label = 'negative'\n",
    "                else:\n",
    "                    sentiment_label = 'neutral'\n",
    "                \n",
    "                # Append the review along with its sentiment analysis result\n",
    "                topics[topic].append({\n",
    "                    \"review\": review,\n",
    "                    \"sentiment\": {\n",
    "                        \"analyzer_rating\": normalized_score,\n",
    "                        \"label\": sentiment_label\n",
    "                    }\n",
    "                })\n",
    "        \n",
    "    plot_sentiment_distribution(topics)\n",
    "\n",
    "    return {\n",
    "        \"total_reviews\": len(reviews),\n",
    "        \"sentiment_scores\": sentiment_scores,\n",
    "        \"topics\": topics,\n",
    "        \"average_rating\": sum(r.get(\"rating\", 3) for r in reviews) / len(reviews)\n",
    "    }\n",
    "\n",
    "# Create the aspect based sentiment analysis tool\n",
    "sentiment_tool = Tool(\n",
    "    name=\"review_analysis\",\n",
    "    description=\"Aspect based sentiment analysis tool that compares the sentiment of reviews by analyzer and rating\",\n",
    "    function=analyze_sentiment,\n",
    "    parameters={\n",
    "        \"type\": \"object\",\n",
    "        \"properties\": {\n",
    "            \"reviews\": {\n",
    "                \"type\": \"array\",\n",
    "                \"items\": {\n",
    "                    \"type\": \"object\",\n",
    "                    \"properties\": {\n",
    "                        \"review\": {\"type\": \"string\"},\n",
    "                        \"rating\": {\"type\": \"integer\"},\n",
    "                        \"date\": {\"type\": \"string\"}\n",
    "                    }\n",
    "                }\n",
    "            },\n",
    "        },\n",
    "        \"required\": [\"reviews\"]\n",
    "    }\n",
    ")\n",
    "\n"
   ]
  },
  {
   "cell_type": "code",
   "execution_count": null,
   "metadata": {},
   "outputs": [],
   "source": [
    "!pip install sumy"
   ]
  },
  {
   "cell_type": "code",
   "execution_count": 17,
   "metadata": {},
   "outputs": [],
   "source": [
    "from sumy.parsers.plaintext import PlaintextParser\n",
    "from sumy.nlp.tokenizers import Tokenizer\n",
    "from sumy.summarizers.lsa import LsaSummarizer\n",
    "\n",
    "def summarize_reviews(reviews: List[Dict]) -> Dict:\n",
    "    \"\"\"\n",
    "    Summarize the reviews by extracting key sentences.\n",
    "    \"\"\"\n",
    "    summaries = []\n",
    "    summarizer = LsaSummarizer()\n",
    "    for review in reviews:\n",
    "        text = review.get(\"review\", \"\")\n",
    "        parser = PlaintextParser.from_string(text, Tokenizer(\"english\"))\n",
    "        summary = summarizer(parser.document, 2)  # Adjust the number of sentences as needed\n",
    "        summary_text = \" \".join(str(sentence) for sentence in summary)\n",
    "        summaries.append({\"review\": text, \"summary\": summary_text})\n",
    "\n",
    "    return {\"summaries\": summaries}\n",
    "\n",
    "# Create the text summarization tool\n",
    "summarization_tool = Tool(\n",
    "    name=\"review_summarization\",\n",
    "    description=\"Tool to summarize customer reviews by extracting key sentences.\",\n",
    "    function=summarize_reviews,\n",
    "    parameters={\n",
    "        \"type\": \"object\",\n",
    "        \"properties\": {\n",
    "            \"reviews\": {\n",
    "                \"type\": \"array\",\n",
    "                \"items\": {\n",
    "                    \"type\": \"object\",\n",
    "                    \"properties\": {\n",
    "                        \"review\": {\"type\": \"string\"},\n",
    "                        \"rating\": {\"type\": \"integer\"},\n",
    "                        \"date\": {\"type\": \"string\"}\n",
    "                    }\n",
    "                }\n",
    "            },\n",
    "        },\n",
    "        \"required\": [\"reviews\"]\n",
    "    }\n",
    ")"
   ]
  },
  {
   "cell_type": "code",
   "execution_count": 37,
   "metadata": {},
   "outputs": [
    {
     "name": "stderr",
     "output_type": "stream",
     "text": [
      "/Users/amna.mubashar/Library/Python/3.9/lib/python/site-packages/haystack/components/tools/tool_invoker.py:123: UserWarning: The `ToolInvoker` component is experimental and its API may change in the future.\n",
      "  warnings.warn(msg)\n"
     ]
    }
   ],
   "source": [
    "def create_review_assistant():\n",
    "    \"\"\"Creates an interactive review analysis assistant\"\"\"\n",
    "    \n",
    "    # replace with AzureOpenAIChatGenerator after Haystack 2.10.0 release \n",
    "    chat_generator = OpenAIChatGenerator(\n",
    "        tools=[sentiment_tool, summarization_tool]\n",
    "    )\n",
    "    \n",
    "    system_message = ChatMessage.from_system(\n",
    "        \"\"\"\n",
    "        You are a customer review analysis expert. Your task is to perform aspect based sentiment analysis on customer reviews.\n",
    "        You can use two tools to get insights:\n",
    "        - review_analysis: to get the sentiment of reviews by analyzer and rating\n",
    "        - review_summarization: to get the summary of reviews.\n",
    "\n",
    "        Depending on the user's question, use the appropriate tool to get insights and explain them in a helpful way. \n",
    "        \n",
    "        \"\"\"\n",
    "    )\n",
    "    \n",
    "    return chat_generator, system_message\n",
    "\n",
    "tool_invoker = ToolInvoker(tools=[sentiment_tool, summarization_tool])\n"
   ]
  },
  {
   "cell_type": "code",
   "execution_count": 38,
   "metadata": {},
   "outputs": [
    {
     "name": "stdout",
     "output_type": "stream",
     "text": [
      "\n",
      "🧑: Whats the sentiment distribution in our reviews?\n",
      "⌛ iterating...\n",
      "\n",
      " TOOL CALL:\n",
      "\treview_analysis\n"
     ]
    },
    {
     "data": {
      "image/png": "[encoded data removed]",
      "text/plain": [
       "<Figure size 800x400 with 1 Axes>"
      ]
     },
     "metadata": {},
     "output_type": "display_data"
    },
    {
     "name": "stdout",
     "output_type": "stream",
     "text": [
      "⌛ iterating...\n",
      "🤖: The sentiment distribution in your reviews is as follows:\n",
      "\n",
      "- **Positive Sentiment**: 38.8%\n",
      "- **Neutral Sentiment**: 61.2%\n",
      "- **Negative Sentiment**: 0.0%\n",
      "\n",
      "In summary, there are no negative sentiments reported in the reviews, with a significant portion being neutral. This suggests that while customers may have positive experiences, there could be many reviews that do not express strong feelings either way.\n",
      "\n",
      "### Breakdown of Average Rating:\n",
      "The average rating across the reviews is **4.4**, indicating a generally favorable perception of your product.\n",
      "\n",
      "### Key Themes Identified:\n",
      "1. **Product Quality**:\n",
      "   - Positive reviews highlight great product options and overall satisfaction after figuring out sizing.\n",
      "   - A negative sentiment appears related to pricing being perceived as high.\n",
      "\n",
      "2. **Shipping**:\n",
      "   - Customers expressed positive feelings about efficient delivery and packing.\n",
      "\n",
      "3. **Pricing**:\n",
      "   - There are concerns about prices being seen as high for the products, particularly t-shirts.\n",
      "\n",
      "Overall, while the sentiment overall is quite positive, there are clear areas of concern regarding pricing that might need to be addressed.\n",
      "\n",
      "🧑: Summarize the reviews in a paragraph.\n",
      "⌛ iterating...\n",
      "\n",
      " TOOL CALL:\n",
      "\treview_summarization\n",
      "⌛ iterating...\n",
      "🤖: The reviews reflect a generally positive experience among customers. Many appreciate the extensive product options, with comments stating that \"anything I could imagine was available.\" Customers found the sizing accommodating after some adjustments, leading to high satisfaction with their purchases. Fast and efficient delivery was frequently praised, as items were well-packed and delivered promptly. However, a sentiment of concern is expressed regarding pricing, with remarks noting that certain items, particularly children's t-shirts, felt overpriced due to high base costs and shipping fees. Overall, customers are likely to return due to the enjoyable shopping experience, highlighted by the awesome selection and quality of products.\n"
     ]
    }
   ],
   "source": [
    "# Create the review assistant\n",
    "chat_generator, system_message = create_review_assistant()\n",
    "\n",
    "# Initialize messages with the system message\n",
    "messages = [system_message]\n",
    "\n",
    "# Interactive loop for user input\n",
    "while True:\n",
    "    user_input = input(\"\\n\\nwaiting for input (type 'exit' or 'quit' to stop)\\n: \")\n",
    "    if user_input.lower() == \"exit\" or user_input.lower() == \"quit\":\n",
    "        break\n",
    "    messages.append(ChatMessage.from_user(user_input))\n",
    "\n",
    "    print (f\"\\n🧑: {user_input}\")\n",
    "    # Build the prompt with user input and reviews\n",
    "    user_prompt = ChatMessage.from_user(f\"\"\"\n",
    "    {user_input}\n",
    "    Here are the reviews:\n",
    "    {retrieved_reviews}\n",
    "    analysis_type: \"topics\"\n",
    "    \"\"\")\n",
    "    messages.append(user_prompt)\n",
    "\n",
    "    while True:\n",
    "        print(\"⌛ iterating...\")\n",
    "\n",
    "        replies = chat_generator.run(messages=messages)[\"replies\"]\n",
    "        messages.extend(replies)\n",
    "\n",
    "        # Check for tool calls and handle them\n",
    "        if not replies[0].tool_calls:\n",
    "            break\n",
    "        tool_calls = replies[0].tool_calls\n",
    "\n",
    "        # Print tool calls for debugging\n",
    "        for tc in tool_calls:\n",
    "            print(\"\\n TOOL CALL:\")\n",
    "            print(f\"\\t{tc.tool_name}\")\n",
    "\n",
    "        tool_messages = tool_invoker.run(messages=replies)[\"tool_messages\"]\n",
    "        messages.extend(tool_messages)\n",
    "\n",
    "    # Print the final AI response after all tool calls are resolved\n",
    "    print(f\"🤖: {messages[-1].text}\")\n",
    "\n"
   ]
  }
 ],
 "metadata": {
  "kernelspec": {
   "display_name": "Python 3",
   "language": "python",
   "name": "python3"
  },
  "language_info": {
   "codemirror_mode": {
    "name": "ipython",
    "version": 3
   },
   "file_extension": ".py",
   "mimetype": "text/x-python",
   "name": "python",
   "nbconvert_exporter": "python",
   "pygments_lexer": "ipython3",
   "version": "3.9.6"
  }
 },
 "nbformat": 4,
 "nbformat_minor": 2
}
